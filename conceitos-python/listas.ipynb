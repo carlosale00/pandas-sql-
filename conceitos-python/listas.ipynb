{
 "cells": [
  {
   "cell_type": "markdown",
   "metadata": {},
   "source": [
    "## listas\n"
   ]
  },
  {
   "cell_type": "markdown",
   "metadata": {},
   "source": [
    "Criando listas vazias "
   ]
  },
  {
   "cell_type": "code",
   "execution_count": null,
   "metadata": {},
   "outputs": [],
   "source": [
    "lista = []\n",
    "print(type(lista))\n",
    "\n",
    "lista2 = \"\"\n",
    "print(type(lista2))\n",
    "\n",
    "# fazendo o casting\n",
    "lista2 = list(lista2)\n",
    "print(type(lista2))\n"
   ]
  },
  {
   "cell_type": "markdown",
   "metadata": {},
   "source": [
    "Adicionar novo elemento sem método na lista."
   ]
  },
  {
   "cell_type": "code",
   "execution_count": null,
   "metadata": {},
   "outputs": [],
   "source": [
    "# Só é adicionado o valor se ele for uma lista \n",
    "lista = lista + [1, 3, 2, 5, 4]\n",
    "print(lista)"
   ]
  },
  {
   "cell_type": "markdown",
   "metadata": {},
   "source": [
    "Selecionando item pelo indíce"
   ]
  },
  {
   "cell_type": "code",
   "execution_count": null,
   "metadata": {},
   "outputs": [],
   "source": [
    "# Primeiro valor\n",
    "print(lista[0])\n",
    "\n",
    "# Ultimo valor\n",
    "print(lista[4])\n",
    "\n",
    "# Ou\n",
    "print(lista[-1])\n",
    "\n",
    "# Fatiando a lista do primeiro até o terceiro indíce \n",
    "# O primeiro valor é incluso e o ultimo não, portanto para retornar o ultimo indíce sempre ultilizamos uma valor a mais \n",
    "print(lista[0:3])\n",
    "\n",
    "# Retonardo valores sem determinado valores, no caso o indíce de 2 em 2 é excluido.\n",
    "print(lista[::2])\n",
    "\n",
    "# revertendo a lista\n",
    "print(lista[::-1])"
   ]
  },
  {
   "cell_type": "code",
   "execution_count": null,
   "metadata": {},
   "outputs": [],
   "source": [
    "# Listas sao objetos homogêneos , podendo receber qualquer tipo de tipo\n",
    "lista += [100,200,300,\"nome\"] \n",
    "\n",
    "print(lista)\n",
    "\n",
    "# Retornando valor de outra lista dentro da lista principal\n",
    "print(lista[5][1])\n",
    "\n",
    "# usando método de string em um indice da lista \n",
    "print(lista[6].upper())"
   ]
  },
  {
   "cell_type": "markdown",
   "metadata": {},
   "source": [
    "## Métodos\n",
    "\n"
   ]
  },
  {
   "cell_type": "code",
   "execution_count": null,
   "metadata": {},
   "outputs": [],
   "source": [
    "# Adicionar valor a lista\n",
    "lista.append(\"Carlos\")\n",
    "print(lista)"
   ]
  },
  {
   "cell_type": "code",
   "execution_count": null,
   "metadata": {},
   "outputs": [],
   "source": [
    "# Excluir ultimo valor\n",
    "item_excluido = lista.pop()\n",
    "print(item_excluido)\n",
    "print(lista)"
   ]
  },
  {
   "cell_type": "code",
   "execution_count": null,
   "metadata": {},
   "outputs": [],
   "source": [
    "lista2 += [30,5,0.99,100,500,5000,50,30]\n",
    "lista2.sort()\n",
    "print(lista2)"
   ]
  }
 ],
 "metadata": {
  "kernelspec": {
   "display_name": ".venv",
   "language": "python",
   "name": "python3"
  },
  "language_info": {
   "codemirror_mode": {
    "name": "ipython",
    "version": 3
   },
   "file_extension": ".py",
   "mimetype": "text/x-python",
   "name": "python",
   "nbconvert_exporter": "python",
   "pygments_lexer": "ipython3",
   "version": "3.13.0"
  }
 },
 "nbformat": 4,
 "nbformat_minor": 2
}
